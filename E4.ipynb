{
 "cells": [
  {
   "cell_type": "markdown",
   "metadata": {},
   "source": [
    "**Download IBI data from the cloud**"
   ]
  },
  {
   "cell_type": "code",
   "execution_count": 1,
   "metadata": {},
   "outputs": [],
   "source": [
    "import dropbox\n",
    "import datetime\n",
    "import schedule\n",
    "import numpy\n",
    "import string\n",
    "import requests\n",
    "\n",
    "from threading import Timer\n",
    "import time\n",
    "import sys\n"
   ]
  },
  {
   "cell_type": "markdown",
   "metadata": {},
   "source": [
    "#### Downloading function"
   ]
  },
  {
   "cell_type": "code",
   "execution_count": 2,
   "metadata": {},
   "outputs": [],
   "source": [
    "# Downloading function\n",
    "def download():\n",
    "    # Dropbox access token    \n",
    "    dbx = dropbox.Dropbox('lY_d3DAmzgAAAAAAAAAAdn7IAKZUPyYJXhaYmllRlCFZwhYgt_m6fNafXq8DcgWK')\n",
    "    \n",
    "    # current time\n",
    "    timestamp = datetime.datetime.now()\n",
    "    # time gap\n",
    "    delta = datetime.timedelta(minutes = 1)\n",
    "    # time where the IBI file has been bulit\n",
    "    filetime = timestamp - delta\n",
    "    \n",
    "    # Re-formatting: datetime->String\n",
    "    Str_filetime = filetime.strftime('%Y-%m-%d-%H-%M')\n",
    "    \n",
    "    # For testing only \n",
    "#     Str_filetime = '2019-06-22-22-25'\n",
    "    \n",
    "    # Set parameters for downloading the file \n",
    "    # Saving path\n",
    "    download_path = 'C:\\\\FINAL_PROJECT\\\\IBI_Files\\\\IBIData'+Str_filetime +'.txt'\n",
    "    # File location in dropbox    \n",
    "    path = '/IBI/IBIData'+Str_filetime+'.txt'\n",
    "    \n",
    "    try:\n",
    "#         print(\"Downloading current /Apps/E4Link\" + path + \" from Dropbox, overwriting \" + download_path + \"...\") \n",
    "        dbx.files_download_to_file(download_path,path,None)   \n",
    "    except:\n",
    "            print('I am an exception')\n",
    "            pass\n",
    "            \n",
    "    else:\n",
    "        print(\"Successful Downloading /Apps/E4Link\" + path + \" from Dropbox, overwriting \" + download_path + \"...\")\n",
    "        return download_path\n"
   ]
  },
  {
   "cell_type": "markdown",
   "metadata": {},
   "source": [
    "####  Heart rate calculation function"
   ]
  },
  {
   "cell_type": "code",
   "execution_count": 3,
   "metadata": {},
   "outputs": [],
   "source": [
    "# Heart rate calculation function\n",
    "def Get_HR(list):\n",
    "    # Get the average IBI value in a minute     \n",
    "    sum = 0\n",
    "    \n",
    "    for i in range(len(list)):\n",
    "        sum += list[i]       # sum of the list\n",
    "        \n",
    "    aveIBI = sum / len(list)\n",
    "\n",
    "    # Calculate the heart beat rate     \n",
    "    bpm = int(60/aveIBI)\n",
    "    \n",
    "    print('The average IBI value(s):',aveIBI,'\\n'+'The heart beat rate(bpm):',bpm)\n",
    "\n",
    "    return bpm\n",
    "    "
   ]
  },
  {
   "cell_type": "markdown",
   "metadata": {},
   "source": [
    "##### Excute the download(), and print the return value"
   ]
  },
  {
   "cell_type": "code",
   "execution_count": 4,
   "metadata": {},
   "outputs": [
    {
     "name": "stdout",
     "output_type": "stream",
     "text": [
      "I am an exception\n",
      "None\n"
     ]
    }
   ],
   "source": [
    "res_location = download() # res is the location of the latest downloaded file\n",
    "print(res_location)"
   ]
  },
  {
   "cell_type": "markdown",
   "metadata": {},
   "source": [
    "#### .txt file -> list"
   ]
  },
  {
   "cell_type": "code",
   "execution_count": 5,
   "metadata": {},
   "outputs": [
    {
     "ename": "ValueError",
     "evalue": "fname must be a string, file handle, or generator",
     "output_type": "error",
     "traceback": [
      "\u001b[1;31m---------------------------------------------------------------------------\u001b[0m",
      "\u001b[1;31mTypeError\u001b[0m                                 Traceback (most recent call last)",
      "\u001b[1;32m~\\Anaconda3\\lib\\site-packages\\numpy\\lib\\npyio.py\u001b[0m in \u001b[0;36mloadtxt\u001b[1;34m(fname, dtype, comments, delimiter, converters, skiprows, usecols, unpack, ndmin, encoding, max_rows)\u001b[0m\n\u001b[0;32m    959\u001b[0m         \u001b[1;32melse\u001b[0m\u001b[1;33m:\u001b[0m\u001b[1;33m\u001b[0m\u001b[1;33m\u001b[0m\u001b[0m\n\u001b[1;32m--> 960\u001b[1;33m             \u001b[0mfh\u001b[0m \u001b[1;33m=\u001b[0m \u001b[0miter\u001b[0m\u001b[1;33m(\u001b[0m\u001b[0mfname\u001b[0m\u001b[1;33m)\u001b[0m\u001b[1;33m\u001b[0m\u001b[1;33m\u001b[0m\u001b[0m\n\u001b[0m\u001b[0;32m    961\u001b[0m             \u001b[0mfencoding\u001b[0m \u001b[1;33m=\u001b[0m \u001b[0mgetattr\u001b[0m\u001b[1;33m(\u001b[0m\u001b[0mfname\u001b[0m\u001b[1;33m,\u001b[0m \u001b[1;34m'encoding'\u001b[0m\u001b[1;33m,\u001b[0m \u001b[1;34m'latin1'\u001b[0m\u001b[1;33m)\u001b[0m\u001b[1;33m\u001b[0m\u001b[1;33m\u001b[0m\u001b[0m\n",
      "\u001b[1;31mTypeError\u001b[0m: 'NoneType' object is not iterable",
      "\nDuring handling of the above exception, another exception occurred:\n",
      "\u001b[1;31mValueError\u001b[0m                                Traceback (most recent call last)",
      "\u001b[1;32m<ipython-input-5-e1724dbe21eb>\u001b[0m in \u001b[0;36m<module>\u001b[1;34m\u001b[0m\n\u001b[0;32m      1\u001b[0m \u001b[1;31m#res_location = 'C:\\FINAL_PROJECT\\IBI_Files\\IBIData2019-06-25-15-46.txt'\u001b[0m\u001b[1;33m\u001b[0m\u001b[1;33m\u001b[0m\u001b[1;33m\u001b[0m\u001b[0m\n\u001b[1;32m----> 2\u001b[1;33m \u001b[0mresval\u001b[0m \u001b[1;33m=\u001b[0m \u001b[0mnumpy\u001b[0m\u001b[1;33m.\u001b[0m\u001b[0mloadtxt\u001b[0m\u001b[1;33m(\u001b[0m\u001b[0mres_location\u001b[0m\u001b[1;33m)\u001b[0m\u001b[1;33m\u001b[0m\u001b[1;33m\u001b[0m\u001b[0m\n\u001b[0m\u001b[0;32m      3\u001b[0m \u001b[1;33m\u001b[0m\u001b[0m\n\u001b[0;32m      4\u001b[0m \u001b[1;32mwith\u001b[0m \u001b[0mopen\u001b[0m\u001b[1;33m(\u001b[0m\u001b[0mres_location\u001b[0m\u001b[1;33m,\u001b[0m \u001b[1;34m'r'\u001b[0m\u001b[1;33m,\u001b[0m \u001b[0mencoding\u001b[0m\u001b[1;33m=\u001b[0m\u001b[1;34m'utf-8'\u001b[0m\u001b[1;33m)\u001b[0m \u001b[1;32mas\u001b[0m \u001b[0mf\u001b[0m\u001b[1;33m:\u001b[0m\u001b[1;33m\u001b[0m\u001b[1;33m\u001b[0m\u001b[0m\n\u001b[0;32m      5\u001b[0m \u001b[1;33m\u001b[0m\u001b[0m\n",
      "\u001b[1;32m~\\Anaconda3\\lib\\site-packages\\numpy\\lib\\npyio.py\u001b[0m in \u001b[0;36mloadtxt\u001b[1;34m(fname, dtype, comments, delimiter, converters, skiprows, usecols, unpack, ndmin, encoding, max_rows)\u001b[0m\n\u001b[0;32m    961\u001b[0m             \u001b[0mfencoding\u001b[0m \u001b[1;33m=\u001b[0m \u001b[0mgetattr\u001b[0m\u001b[1;33m(\u001b[0m\u001b[0mfname\u001b[0m\u001b[1;33m,\u001b[0m \u001b[1;34m'encoding'\u001b[0m\u001b[1;33m,\u001b[0m \u001b[1;34m'latin1'\u001b[0m\u001b[1;33m)\u001b[0m\u001b[1;33m\u001b[0m\u001b[1;33m\u001b[0m\u001b[0m\n\u001b[0;32m    962\u001b[0m     \u001b[1;32mexcept\u001b[0m \u001b[0mTypeError\u001b[0m\u001b[1;33m:\u001b[0m\u001b[1;33m\u001b[0m\u001b[1;33m\u001b[0m\u001b[0m\n\u001b[1;32m--> 963\u001b[1;33m         \u001b[1;32mraise\u001b[0m \u001b[0mValueError\u001b[0m\u001b[1;33m(\u001b[0m\u001b[1;34m'fname must be a string, file handle, or generator'\u001b[0m\u001b[1;33m)\u001b[0m\u001b[1;33m\u001b[0m\u001b[1;33m\u001b[0m\u001b[0m\n\u001b[0m\u001b[0;32m    964\u001b[0m \u001b[1;33m\u001b[0m\u001b[0m\n\u001b[0;32m    965\u001b[0m     \u001b[1;31m# input may be a python2 io stream\u001b[0m\u001b[1;33m\u001b[0m\u001b[1;33m\u001b[0m\u001b[1;33m\u001b[0m\u001b[0m\n",
      "\u001b[1;31mValueError\u001b[0m: fname must be a string, file handle, or generator"
     ]
    }
   ],
   "source": [
    "#res_location = 'C:\\FINAL_PROJECT\\IBI_Files\\IBIData2019-06-25-15-46.txt'\n",
    "resval = numpy.loadtxt(res_location)\n",
    "\n",
    "with open(res_location, 'r', encoding='utf-8') as f:\n",
    "    \n",
    "    lines = f.readlines()# read the content\n",
    "\n",
    "    for i in range(0,lines.__len__(),1): #(start/left bond, end/right bond, step length) \n",
    "        list = []  # empty list for storing the data\n",
    "        \n",
    "        for value in lines[i].split():\n",
    "            value=value.strip(string.whitespace)\n",
    "            list.append(float(value))\n",
    "        print(list)"
   ]
  },
  {
   "cell_type": "markdown",
   "metadata": {},
   "source": [
    "#### Excute the Get_HR(), and print the rate of heart beat"
   ]
  },
  {
   "cell_type": "code",
   "execution_count": 6,
   "metadata": {},
   "outputs": [
    {
     "ename": "TypeError",
     "evalue": "object of type 'type' has no len()",
     "output_type": "error",
     "traceback": [
      "\u001b[1;31m---------------------------------------------------------------------------\u001b[0m",
      "\u001b[1;31mTypeError\u001b[0m                                 Traceback (most recent call last)",
      "\u001b[1;32m<ipython-input-6-f81d7fcf35a0>\u001b[0m in \u001b[0;36m<module>\u001b[1;34m\u001b[0m\n\u001b[1;32m----> 1\u001b[1;33m \u001b[0mres_bpm\u001b[0m \u001b[1;33m=\u001b[0m \u001b[0mGet_HR\u001b[0m\u001b[1;33m(\u001b[0m\u001b[0mlist\u001b[0m\u001b[1;33m)\u001b[0m\u001b[1;33m\u001b[0m\u001b[1;33m\u001b[0m\u001b[0m\n\u001b[0m\u001b[0;32m      2\u001b[0m \u001b[0mprint\u001b[0m \u001b[1;33m(\u001b[0m\u001b[0mres_bpm\u001b[0m\u001b[1;33m)\u001b[0m\u001b[1;33m\u001b[0m\u001b[1;33m\u001b[0m\u001b[0m\n",
      "\u001b[1;32m<ipython-input-3-6ed324616d15>\u001b[0m in \u001b[0;36mGet_HR\u001b[1;34m(list)\u001b[0m\n\u001b[0;32m      4\u001b[0m     \u001b[0msum\u001b[0m \u001b[1;33m=\u001b[0m \u001b[1;36m0\u001b[0m\u001b[1;33m\u001b[0m\u001b[1;33m\u001b[0m\u001b[0m\n\u001b[0;32m      5\u001b[0m \u001b[1;33m\u001b[0m\u001b[0m\n\u001b[1;32m----> 6\u001b[1;33m     \u001b[1;32mfor\u001b[0m \u001b[0mi\u001b[0m \u001b[1;32min\u001b[0m \u001b[0mrange\u001b[0m\u001b[1;33m(\u001b[0m\u001b[0mlen\u001b[0m\u001b[1;33m(\u001b[0m\u001b[0mlist\u001b[0m\u001b[1;33m)\u001b[0m\u001b[1;33m)\u001b[0m\u001b[1;33m:\u001b[0m\u001b[1;33m\u001b[0m\u001b[1;33m\u001b[0m\u001b[0m\n\u001b[0m\u001b[0;32m      7\u001b[0m         \u001b[0msum\u001b[0m \u001b[1;33m+=\u001b[0m \u001b[0mlist\u001b[0m\u001b[1;33m[\u001b[0m\u001b[0mi\u001b[0m\u001b[1;33m]\u001b[0m       \u001b[1;31m# sum of the list\u001b[0m\u001b[1;33m\u001b[0m\u001b[1;33m\u001b[0m\u001b[0m\n\u001b[0;32m      8\u001b[0m \u001b[1;33m\u001b[0m\u001b[0m\n",
      "\u001b[1;31mTypeError\u001b[0m: object of type 'type' has no len()"
     ]
    }
   ],
   "source": [
    "res_bpm = Get_HR(list)\n",
    "print (res_bpm)"
   ]
  },
  {
   "cell_type": "code",
   "execution_count": null,
   "metadata": {},
   "outputs": [],
   "source": []
  },
  {
   "cell_type": "code",
   "execution_count": 2,
   "metadata": {},
   "outputs": [],
   "source": [
    "def E4():\n",
    "    # Dropbox access token    \n",
    "    dbx = dropbox.Dropbox('lY_d3DAmzgAAAAAAAAAAdn7IAKZUPyYJXhaYmllRlCFZwhYgt_m6fNafXq8DcgWK')\n",
    "    \n",
    "    # current time\n",
    "    timestamp = datetime.datetime.now()\n",
    "    # time gap\n",
    "    delta = datetime.timedelta(minutes = 1)\n",
    "    # time where the IBI file has been bulit\n",
    "    filetime = timestamp - delta\n",
    "    \n",
    "    # Re-formatting: datetime->String\n",
    "    Str_filetime = filetime.strftime('%Y-%m-%d-%H-%M')\n",
    "    \n",
    "    # For testing only \n",
    "    # Str_filetime = '2019-06-22-22-25'\n",
    "    \n",
    "    # Set parameters for downloading the file \n",
    "    # Saving path\n",
    "    download_path = 'C:\\\\FINAL_PROJECT\\\\IBI_Files\\\\IBIData'+Str_filetime +'.txt'\n",
    "    # File location in dropbox    \n",
    "    path = '/IBI/IBIData'+Str_filetime+'.txt'\n",
    "    \n",
    "    # try download\n",
    "    try:\n",
    "        dbx.files_download_to_file(download_path,path,None)   \n",
    "    except:\n",
    "            print('The file current is not exsit')\n",
    "            pass\n",
    "    else:\n",
    "        print(\"Successful Downloading /Apps/E4Link\" + path + \" from Dropbox, overwriting \" + download_path + \"...\")\n",
    "        \n",
    "        # A file downloaded, reformat the file\n",
    "        resval = numpy.loadtxt(download_path)\n",
    "\n",
    "        with open(download_path, 'r', encoding='utf-8') as f:\n",
    "            lines = f.readlines()# read the content\n",
    "            for i in range(0,lines.__len__(),1): #(start/left bond, end/right bond, step length) \n",
    "                list = []  # empty list for storing the data\n",
    "                for value in lines[i].split():\n",
    "                    value=value.strip(string.whitespace)\n",
    "                    list.append(float(value))\n",
    "        \n",
    "        # calculate the heart beat rate\n",
    "        sum = 0\n",
    "    \n",
    "        for i in range(len(list)):\n",
    "            sum += list[i]       # sum of the list\n",
    "\n",
    "        aveIBI = sum / len(list)\n",
    "\n",
    "        # Calculate the heart beat rate     \n",
    "        bpm = int(60/aveIBI)\n",
    "\n",
    "        print('The average IBI value(s):',aveIBI,'\\n'+'The heart beat rate(bpm):',bpm)\n"
   ]
  },
  {
   "cell_type": "code",
   "execution_count": 3,
   "metadata": {},
   "outputs": [
    {
     "name": "stdout",
     "output_type": "stream",
     "text": [
      "The file current is not exsit\n",
      "The file current is not exsit\n",
      "Successful Downloading /Apps/E4Link/IBI/IBIData2019-06-27-18-32.txt from Dropbox, overwriting C:\\FINAL_PROJECT\\IBI_Files\\IBIData2019-06-27-18-32.txt...\n",
      "The average IBI value(s): 0.6892676577777779 \n",
      "The heart beat rate(bpm): 87\n",
      "Successful Downloading /Apps/E4Link/IBI/IBIData2019-06-27-18-33.txt from Dropbox, overwriting C:\\FINAL_PROJECT\\IBI_Files\\IBIData2019-06-27-18-33.txt...\n",
      "The average IBI value(s): 0.7987144469230768 \n",
      "The heart beat rate(bpm): 75\n",
      "Successful Downloading /Apps/E4Link/IBI/IBIData2019-06-27-18-34.txt from Dropbox, overwriting C:\\FINAL_PROJECT\\IBI_Files\\IBIData2019-06-27-18-34.txt...\n",
      "The average IBI value(s): 0.8556426137931032 \n",
      "The heart beat rate(bpm): 70\n",
      "Successful Downloading /Apps/E4Link/IBI/IBIData2019-06-27-18-35.txt from Dropbox, overwriting C:\\FINAL_PROJECT\\IBI_Files\\IBIData2019-06-27-18-35.txt...\n",
      "The average IBI value(s): 0.8558084115384617 \n",
      "The heart beat rate(bpm): 70\n",
      "Successful Downloading /Apps/E4Link/IBI/IBIData2019-06-27-18-36.txt from Dropbox, overwriting C:\\FINAL_PROJECT\\IBI_Files\\IBIData2019-06-27-18-36.txt...\n",
      "The average IBI value(s): 0.8825132295652175 \n",
      "The heart beat rate(bpm): 67\n",
      "Successful Downloading /Apps/E4Link/IBI/IBIData2019-06-27-18-37.txt from Dropbox, overwriting C:\\FINAL_PROJECT\\IBI_Files\\IBIData2019-06-27-18-37.txt...\n",
      "The average IBI value(s): 0.8623079896296297 \n",
      "The heart beat rate(bpm): 69\n",
      "Successful Downloading /Apps/E4Link/IBI/IBIData2019-06-27-18-38.txt from Dropbox, overwriting C:\\FINAL_PROJECT\\IBI_Files\\IBIData2019-06-27-18-38.txt...\n",
      "The average IBI value(s): 0.8359757725000001 \n",
      "The heart beat rate(bpm): 71\n",
      "The file current is not exsit\n",
      "The file current is not exsit\n",
      "The file current is not exsit\n",
      "The file current is not exsit\n",
      "The file current is not exsit\n",
      "The file current is not exsit\n",
      "The file current is not exsit\n"
     ]
    },
    {
     "ename": "KeyboardInterrupt",
     "evalue": "",
     "output_type": "error",
     "traceback": [
      "\u001b[1;31m---------------------------------------------------------------------------\u001b[0m",
      "\u001b[1;31mKeyboardInterrupt\u001b[0m                         Traceback (most recent call last)",
      "\u001b[1;32m<ipython-input-3-64c80e844ae8>\u001b[0m in \u001b[0;36m<module>\u001b[1;34m\u001b[0m\n\u001b[0;32m      1\u001b[0m \u001b[0mschedule\u001b[0m\u001b[1;33m.\u001b[0m\u001b[0mevery\u001b[0m\u001b[1;33m(\u001b[0m\u001b[1;36m1\u001b[0m\u001b[1;33m)\u001b[0m\u001b[1;33m.\u001b[0m\u001b[0mminutes\u001b[0m\u001b[1;33m.\u001b[0m\u001b[0mdo\u001b[0m\u001b[1;33m(\u001b[0m\u001b[0mE4\u001b[0m\u001b[1;33m)\u001b[0m\u001b[1;33m\u001b[0m\u001b[1;33m\u001b[0m\u001b[0m\n\u001b[0;32m      2\u001b[0m \u001b[1;32mwhile\u001b[0m \u001b[1;32mTrue\u001b[0m\u001b[1;33m:\u001b[0m\u001b[1;33m\u001b[0m\u001b[1;33m\u001b[0m\u001b[0m\n\u001b[1;32m----> 3\u001b[1;33m     \u001b[0mschedule\u001b[0m\u001b[1;33m.\u001b[0m\u001b[0mrun_pending\u001b[0m\u001b[1;33m(\u001b[0m\u001b[1;33m)\u001b[0m\u001b[1;33m\u001b[0m\u001b[1;33m\u001b[0m\u001b[0m\n\u001b[0m",
      "\u001b[1;32m~\\Anaconda3\\lib\\site-packages\\schedule\\__init__.py\u001b[0m in \u001b[0;36mrun_pending\u001b[1;34m()\u001b[0m\n\u001b[0;32m    561\u001b[0m     \u001b[1;33m:\u001b[0m\u001b[0mdata\u001b[0m\u001b[1;33m:\u001b[0m\u001b[0;31m`\u001b[0m\u001b[0mdefault\u001b[0m \u001b[0mscheduler\u001b[0m \u001b[0minstance\u001b[0m \u001b[1;33m<\u001b[0m\u001b[0mdefault_scheduler\u001b[0m\u001b[1;33m>\u001b[0m\u001b[0;31m`\u001b[0m\u001b[1;33m.\u001b[0m\u001b[1;33m\u001b[0m\u001b[1;33m\u001b[0m\u001b[0m\n\u001b[0;32m    562\u001b[0m     \"\"\"\n\u001b[1;32m--> 563\u001b[1;33m     \u001b[0mdefault_scheduler\u001b[0m\u001b[1;33m.\u001b[0m\u001b[0mrun_pending\u001b[0m\u001b[1;33m(\u001b[0m\u001b[1;33m)\u001b[0m\u001b[1;33m\u001b[0m\u001b[1;33m\u001b[0m\u001b[0m\n\u001b[0m\u001b[0;32m    564\u001b[0m \u001b[1;33m\u001b[0m\u001b[0m\n\u001b[0;32m    565\u001b[0m \u001b[1;33m\u001b[0m\u001b[0m\n",
      "\u001b[1;32m~\\Anaconda3\\lib\\site-packages\\schedule\\__init__.py\u001b[0m in \u001b[0;36mrun_pending\u001b[1;34m(self)\u001b[0m\n\u001b[0;32m     91\u001b[0m         \"\"\"\n\u001b[0;32m     92\u001b[0m         \u001b[0mrunnable_jobs\u001b[0m \u001b[1;33m=\u001b[0m \u001b[1;33m(\u001b[0m\u001b[0mjob\u001b[0m \u001b[1;32mfor\u001b[0m \u001b[0mjob\u001b[0m \u001b[1;32min\u001b[0m \u001b[0mself\u001b[0m\u001b[1;33m.\u001b[0m\u001b[0mjobs\u001b[0m \u001b[1;32mif\u001b[0m \u001b[0mjob\u001b[0m\u001b[1;33m.\u001b[0m\u001b[0mshould_run\u001b[0m\u001b[1;33m)\u001b[0m\u001b[1;33m\u001b[0m\u001b[1;33m\u001b[0m\u001b[0m\n\u001b[1;32m---> 93\u001b[1;33m         \u001b[1;32mfor\u001b[0m \u001b[0mjob\u001b[0m \u001b[1;32min\u001b[0m \u001b[0msorted\u001b[0m\u001b[1;33m(\u001b[0m\u001b[0mrunnable_jobs\u001b[0m\u001b[1;33m)\u001b[0m\u001b[1;33m:\u001b[0m\u001b[1;33m\u001b[0m\u001b[1;33m\u001b[0m\u001b[0m\n\u001b[0m\u001b[0;32m     94\u001b[0m             \u001b[0mself\u001b[0m\u001b[1;33m.\u001b[0m\u001b[0m_run_job\u001b[0m\u001b[1;33m(\u001b[0m\u001b[0mjob\u001b[0m\u001b[1;33m)\u001b[0m\u001b[1;33m\u001b[0m\u001b[1;33m\u001b[0m\u001b[0m\n\u001b[0;32m     95\u001b[0m \u001b[1;33m\u001b[0m\u001b[0m\n",
      "\u001b[1;31mKeyboardInterrupt\u001b[0m: "
     ]
    }
   ],
   "source": [
    "schedule.every(1).minutes.do(E4)\n",
    "while True:\n",
    "    schedule.run_pending()"
   ]
  },
  {
   "cell_type": "code",
   "execution_count": null,
   "metadata": {},
   "outputs": [],
   "source": []
  }
 ],
 "metadata": {
  "kernelspec": {
   "display_name": "Python 3",
   "language": "python",
   "name": "python3"
  },
  "language_info": {
   "codemirror_mode": {
    "name": "ipython",
    "version": 3
   },
   "file_extension": ".py",
   "mimetype": "text/x-python",
   "name": "python",
   "nbconvert_exporter": "python",
   "pygments_lexer": "ipython3",
   "version": "3.7.3"
  }
 },
 "nbformat": 4,
 "nbformat_minor": 1
}
