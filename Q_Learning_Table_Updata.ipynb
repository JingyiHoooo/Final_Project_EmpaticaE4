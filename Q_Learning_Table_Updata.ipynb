{
 "cells": [
  {
   "cell_type": "code",
   "execution_count": 13,
   "metadata": {},
   "outputs": [
    {
     "ename": "ModuleNotFoundError",
     "evalue": "No module named 'RL_Agent'",
     "output_type": "error",
     "traceback": [
      "\u001b[1;31m---------------------------------------------------------------------------\u001b[0m",
      "\u001b[1;31mModuleNotFoundError\u001b[0m                       Traceback (most recent call last)",
      "\u001b[1;32m<ipython-input-13-0468614f2065>\u001b[0m in \u001b[0;36m<module>\u001b[1;34m\u001b[0m\n\u001b[0;32m     10\u001b[0m \"\"\"\n\u001b[0;32m     11\u001b[0m \u001b[1;33m\u001b[0m\u001b[0m\n\u001b[1;32m---> 12\u001b[1;33m \u001b[1;32mfrom\u001b[0m \u001b[0mRL_Agent\u001b[0m \u001b[1;32mimport\u001b[0m \u001b[0mQLearningTable\u001b[0m\u001b[1;33m\u001b[0m\u001b[1;33m\u001b[0m\u001b[0m\n\u001b[0m\u001b[0;32m     13\u001b[0m \u001b[1;32mfrom\u001b[0m \u001b[0mE4\u001b[0m \u001b[1;32mimport\u001b[0m \u001b[0mHR_Gettiing\u001b[0m\u001b[1;33m\u001b[0m\u001b[1;33m\u001b[0m\u001b[0m\n",
      "\u001b[1;31mModuleNotFoundError\u001b[0m: No module named 'RL_Agent'"
     ]
    }
   ],
   "source": [
    "from RL_Agent import QLearningTable\n",
    "from E4 import HR_Gettiing"
   ]
  },
  {
   "cell_type": "code",
   "execution_count": null,
   "metadata": {},
   "outputs": [],
   "source": [
    "def update():\n",
    "    # initial observation\n",
    "    observation = 50\n",
    "\n",
    "    while True:\n",
    "        # read latest bpm\n",
    "        f =  open('bpm_data.csv','r')\n",
    "        bpm_csvfile = csv.reader(f)\n",
    "        latest_bpm = bpm_csvfile[-1]\n",
    "            \n",
    "        # RL choose action based on observation\n",
    "        action = RL.choose_action(str(observation))\n",
    "\n",
    "        # RL take action and get next observation and reward\n",
    "        observation_ = latest_bpm\n",
    "        \n",
    "        if observation_ > observation: # bpm increased\n",
    "            reward = -1\n",
    "        else if:\n",
    "                reward = 1\n",
    "            else:\n",
    "                reward = 0\n",
    "\n",
    "        # RL learn from this transition\n",
    "        RL.learn(str(observation), action, reward, str(observation_))\n",
    "\n",
    "        # Memory storage\n",
    "        # RL.store_transition(observation, action, reward, observation_)\n",
    "\n",
    "        # swap observation\n",
    "        observation = observation_\n",
    "\n",
    "\n",
    "if __name__ == \"__main__\":\n",
    "    ACTIONS = ['1', '2', '3', '4', '5', '6', '7', '8', '9','10','11','12','13','14', '15', '16']     # available actions\n",
    "    RL = QLearningTable(actions = ACTIONS)\n"
   ]
  }
 ],
 "metadata": {
  "kernelspec": {
   "display_name": "Python 3",
   "language": "python",
   "name": "python3"
  },
  "language_info": {
   "codemirror_mode": {
    "name": "ipython",
    "version": 3
   },
   "file_extension": ".py",
   "mimetype": "text/x-python",
   "name": "python",
   "nbconvert_exporter": "python",
   "pygments_lexer": "ipython3",
   "version": "3.7.3"
  }
 },
 "nbformat": 4,
 "nbformat_minor": 2
}
